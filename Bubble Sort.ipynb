{
 "cells": [
  {
   "cell_type": "markdown",
   "metadata": {},
   "source": [
    "1. Main point of bubble sort: if the first number is bigger than the second number, then change their order."
   ]
  },
  {
   "cell_type": "code",
   "execution_count": 8,
   "metadata": {},
   "outputs": [
    {
     "name": "stdout",
     "output_type": "stream",
     "text": [
      "7 3\n",
      "True\n",
      "3 7\n"
     ]
    }
   ],
   "source": [
    "numbers = [7, 3, 2, 9] #n n+1\n",
    "first = numbers[0]\n",
    "second = numbers[1]\n",
    "print(first, second)\n",
    "\n",
    "print(first > second) \n",
    "temp=first\n",
    "first = second\n",
    "second = temp\n",
    "\n",
    "print(first,second)"
   ]
  },
  {
   "cell_type": "markdown",
   "metadata": {},
   "source": [
    "2. find a rule"
   ]
  },
  {
   "cell_type": "code",
   "execution_count": 9,
   "metadata": {},
   "outputs": [],
   "source": [
    "numbers = [3 ,7 ,2 ,9 ]#n n+2"
   ]
  },
  {
   "cell_type": "code",
   "execution_count": 13,
   "metadata": {},
   "outputs": [
    {
     "name": "stdout",
     "output_type": "stream",
     "text": [
      "2 3\n"
     ]
    }
   ],
   "source": [
    "first = numbers[0]\n",
    "third = numbers[2]\n",
    "\n",
    "temp = first\n",
    "first = third\n",
    "third = temp\n",
    "\n",
    "print(first,third) "
   ]
  },
  {
   "cell_type": "code",
   "execution_count": 16,
   "metadata": {},
   "outputs": [
    {
     "name": "stdout",
     "output_type": "stream",
     "text": [
      "True\n",
      "[2, 7, 3, 9]\n"
     ]
    }
   ],
   "source": [
    "numbers= [2 ,7 ,3 ,9] #n n+3\n",
    "\n",
    "first = numbers[0]\n",
    "forth = numbers[3]\n",
    "\n",
    "print(first < forth)\n",
    "print(numbers)"
   ]
  },
  {
   "cell_type": "code",
   "execution_count": null,
   "metadata": {},
   "outputs": [],
   "source": []
  }
 ],
 "metadata": {
  "kernelspec": {
   "display_name": "Python 3",
   "language": "python",
   "name": "python3"
  },
  "language_info": {
   "codemirror_mode": {
    "name": "ipython",
    "version": 3
   },
   "file_extension": ".py",
   "mimetype": "text/x-python",
   "name": "python",
   "nbconvert_exporter": "python",
   "pygments_lexer": "ipython3",
   "version": "3.7.1"
  }
 },
 "nbformat": 4,
 "nbformat_minor": 2
}
